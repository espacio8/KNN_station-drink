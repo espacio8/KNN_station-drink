{
 "cells": [
  {
   "cell_type": "code",
   "execution_count": 1,
   "metadata": {},
   "outputs": [],
   "source": [
    "import numpy as np\n",
    "import matplotlib.pyplot as plt\n",
    "import pandas as pd"
   ]
  },
  {
   "cell_type": "code",
   "execution_count": 2,
   "metadata": {
    "scrolled": true
   },
   "outputs": [
    {
     "data": {
      "text/html": [
       "<div>\n",
       "<style scoped>\n",
       "    .dataframe tbody tr th:only-of-type {\n",
       "        vertical-align: middle;\n",
       "    }\n",
       "\n",
       "    .dataframe tbody tr th {\n",
       "        vertical-align: top;\n",
       "    }\n",
       "\n",
       "    .dataframe thead th {\n",
       "        text-align: right;\n",
       "    }\n",
       "</style>\n",
       "<table border=\"1\" class=\"dataframe\">\n",
       "  <thead>\n",
       "    <tr style=\"text-align: right;\">\n",
       "      <th></th>\n",
       "      <th>X</th>\n",
       "      <th>Y</th>\n",
       "      <th>Станция</th>\n",
       "      <th>Напиток</th>\n",
       "    </tr>\n",
       "  </thead>\n",
       "  <tbody>\n",
       "    <tr>\n",
       "      <th>0</th>\n",
       "      <td>55.805042</td>\n",
       "      <td>37.514787</td>\n",
       "      <td>Сокол</td>\n",
       "      <td>Кофе</td>\n",
       "    </tr>\n",
       "    <tr>\n",
       "      <th>1</th>\n",
       "      <td>55.769808</td>\n",
       "      <td>37.596192</td>\n",
       "      <td>Маяковская</td>\n",
       "      <td>Чай</td>\n",
       "    </tr>\n",
       "    <tr>\n",
       "      <th>2</th>\n",
       "      <td>55.854891</td>\n",
       "      <td>37.476231</td>\n",
       "      <td>Речной вокзал</td>\n",
       "      <td>Кофе</td>\n",
       "    </tr>\n",
       "    <tr>\n",
       "      <th>3</th>\n",
       "      <td>55.777439</td>\n",
       "      <td>37.582107</td>\n",
       "      <td>Белорусская</td>\n",
       "      <td>Чай</td>\n",
       "    </tr>\n",
       "    <tr>\n",
       "      <th>4</th>\n",
       "      <td>55.854891</td>\n",
       "      <td>37.476231</td>\n",
       "      <td>Речной вокзал</td>\n",
       "      <td>Кофе</td>\n",
       "    </tr>\n",
       "    <tr>\n",
       "      <th>5</th>\n",
       "      <td>55.865429</td>\n",
       "      <td>37.475575</td>\n",
       "      <td>Беломорская</td>\n",
       "      <td>Чай</td>\n",
       "    </tr>\n",
       "    <tr>\n",
       "      <th>6</th>\n",
       "      <td>55.850510</td>\n",
       "      <td>37.439787</td>\n",
       "      <td>Сходненская</td>\n",
       "      <td>Кофе</td>\n",
       "    </tr>\n",
       "    <tr>\n",
       "      <th>7</th>\n",
       "      <td>55.611577</td>\n",
       "      <td>37.603972</td>\n",
       "      <td>Пражская</td>\n",
       "      <td>Чай</td>\n",
       "    </tr>\n",
       "    <tr>\n",
       "      <th>8</th>\n",
       "      <td>55.663146</td>\n",
       "      <td>37.482852</td>\n",
       "      <td>Юго-Западная</td>\n",
       "      <td>Чай</td>\n",
       "    </tr>\n",
       "    <tr>\n",
       "      <th>9</th>\n",
       "      <td>55.656682</td>\n",
       "      <td>37.540075</td>\n",
       "      <td>Калужская</td>\n",
       "      <td>Кофе</td>\n",
       "    </tr>\n",
       "  </tbody>\n",
       "</table>\n",
       "</div>"
      ],
      "text/plain": [
       "           X          Y        Станция Напиток\n",
       "0  55.805042  37.514787          Сокол    Кофе\n",
       "1  55.769808  37.596192     Маяковская     Чай\n",
       "2  55.854891  37.476231  Речной вокзал    Кофе\n",
       "3  55.777439  37.582107    Белорусская     Чай\n",
       "4  55.854891  37.476231  Речной вокзал    Кофе\n",
       "5  55.865429  37.475575    Беломорская     Чай\n",
       "6  55.850510  37.439787    Сходненская    Кофе\n",
       "7  55.611577  37.603972       Пражская     Чай\n",
       "8  55.663146  37.482852   Юго-Западная     Чай\n",
       "9  55.656682  37.540075      Калужская    Кофе"
      ]
     },
     "execution_count": 2,
     "metadata": {},
     "output_type": "execute_result"
    }
   ],
   "source": [
    "#Loading the dataset\n",
    "station_data = pd.read_csv('Train.csv') #прочесть данные разделенные запятой csv\n",
    "\n",
    "#Print the first 5 rows of the dataframe.\n",
    "station_data.head(10)#по умолчанию - 5, иначе - указать в скобках"
   ]
  },
  {
   "cell_type": "code",
   "execution_count": 5,
   "metadata": {},
   "outputs": [],
   "source": [
    "X = station_data.iloc[:, :-2].values #передаем все признаки, кроме последнего (итогового) fetures\n",
    "y = station_data.iloc[:, 3].values #передаем в вектор итоговые значения (посл. столбец)"
   ]
  },
  {
   "cell_type": "code",
   "execution_count": 28,
   "metadata": {},
   "outputs": [],
   "source": [
    "from sklearn.model_selection import train_test_split #Разбивать массивы или матрицы на случайные обучающие и тестовые подмножества\n",
    "X_train, X_test, y_train, y_test = train_test_split(X, y, test_size = 0.2)\n",
    "#X_train = [[55.777439,37.582107][55.611577,37.603972][55.656682,37.540075][55.805042,37.514787][55.769808,37.596192][55.663146,37.482852][55.865429,37.475575][55.854891,37.476231]]\n",
    "#Y_train = [[Чай,Чай,Кофе,Кофе,Чай,Чай,Чай,Кофе]]\n",
    "#X_test = [[55.854891,37.476231][55.85051,37.439787]]\n",
    "#Y_test = [[Кофе,Кофе]]"
   ]
  },
  {
   "cell_type": "code",
   "execution_count": 37,
   "metadata": {},
   "outputs": [
    {
     "data": {
      "text/plain": [
       "KNeighborsClassifier(n_neighbors=3)"
      ]
     },
     "execution_count": 37,
     "metadata": {},
     "output_type": "execute_result"
    }
   ],
   "source": [
    "#обучение и прогнозы\n",
    "from sklearn.neighbors import KNeighborsClassifier\n",
    "classifier = KNeighborsClassifier(n_neighbors = 3 ) #обучаем модель\n",
    "classifier.fit(X_train, y_train) #Подгоните модель, используя X в качестве данных обучения и y в качестве целевых значений"
   ]
  },
  {
   "cell_type": "code",
   "execution_count": 38,
   "metadata": {},
   "outputs": [],
   "source": [
    "y_pred = classifier.predict(X_test) #Предскажите метки классов для предоставленных тестовых данных."
   ]
  },
  {
   "cell_type": "code",
   "execution_count": 41,
   "metadata": {},
   "outputs": [
    {
     "name": "stdout",
     "output_type": "stream",
     "text": [
      "Confusion Matrix:\n",
      "[[1 0]\n",
      " [0 1]]\n",
      "Classification Report:\n",
      "              precision    recall  f1-score   support\n",
      "\n",
      "        Кофе       1.00      1.00      1.00         1\n",
      "         Чай       1.00      1.00      1.00         1\n",
      "\n",
      "    accuracy                           1.00         2\n",
      "   macro avg       1.00      1.00      1.00         2\n",
      "weighted avg       1.00      1.00      1.00         2\n",
      "\n",
      "Accuracy: 1.0\n"
     ]
    }
   ],
   "source": [
    "from sklearn.metrics import classification_report, confusion_matrix, accuracy_score\n",
    "result = confusion_matrix(y_test, y_pred) #матрицу неточностей, чтобы оценить точность классификации\n",
    "print(\"Confusion Matrix:\")\n",
    "print(result)\n",
    "result1 = classification_report(y_test, y_pred) #Создайте текстовый отчет, показывающий основные показатели классификации.\n",
    "print(\"Classification Report:\",) #precision - точность, recall - оценка, f1-score - f-мера, \"macro\" - просто вычисляет среднее значение двоичных показателей, придавая каждому классу одинаковый вес, weighted - учитывает дисбаланс классов, вычисляя среднее значение двоичных показателей, в которых оценка каждого класса взвешивается по его присутствию в истинной выборке данных. \n",
    "print (result1)\n",
    "result2 = accuracy_score(y_test,y_pred) # оценка точности\n",
    "print(\"Accuracy:\",result2)"
   ]
  },
  {
   "cell_type": "code",
   "execution_count": 42,
   "metadata": {},
   "outputs": [],
   "source": [
    "error = []\n",
    "# Calculating error for K values between 1 and 40\n",
    "for i in range(1, len(X_train)+1): #больше 7 - ошибка n_neighbors <= n_samples,  but n_samples = 6, n_neighbors = 7\n",
    "    knn = KNeighborsClassifier(n_neighbors=i)\n",
    "    knn.fit(X_train, y_train)\n",
    "    pred_i = knn.predict(X_test)\n",
    "    error.append(np.mean(pred_i != y_test))"
   ]
  },
  {
   "cell_type": "code",
   "execution_count": 43,
   "metadata": {},
   "outputs": [
    {
     "data": {
      "text/plain": [
       "Text(0, 0.5, 'Mean Error')"
      ]
     },
     "execution_count": 43,
     "metadata": {},
     "output_type": "execute_result"
    },
    {
     "data": {
      "image/png": "[encoded data removed]",
      "text/plain": [
       "<Figure size 864x432 with 1 Axes>"
      ]
     },
     "metadata": {
      "needs_background": "light"
     },
     "output_type": "display_data"
    }
   ],
   "source": [
    "plt.figure(figsize=(12, 6))\n",
    "plt.plot(range(1, len(X_train)+1), error, color='red', linestyle='dashed', marker='o',\n",
    "         markerfacecolor='blue', markersize=10)\n",
    "plt.title('Error Rate K Value')\n",
    "plt.xlabel('K Value')\n",
    "plt.ylabel('Mean Error')"
   ]
  },
  {
   "cell_type": "code",
   "execution_count": 44,
   "metadata": {},
   "outputs": [
    {
     "name": "stdout",
     "output_type": "stream",
     "text": [
      "Data=[[55.751432, 37.716621]], Predicted: ['Чай']\n"
     ]
    }
   ],
   "source": [
    "knn = KNeighborsClassifier(n_neighbors=3)\n",
    "knn.fit(X_train, y_train)\n",
    "# define a new record\n",
    "X_find = [[55.751432,37.716621]] #Тренировочные: все верно, кроме: Беломорская и Калужская - неверно, Водный, Ясенево- верно,\n",
    "#X_find = [[55.846098,37.361220]]\n",
    "# predict the label\n",
    "label= knn.predict(X_find)\n",
    "print('Data=%s, Predicted: %s' % (X_find, label))"
   ]
  },
  {
   "cell_type": "code",
   "execution_count": 48,
   "metadata": {},
   "outputs": [
    {
     "name": "stdout",
     "output_type": "stream",
     "text": [
      "Data=[['55.800261', '37.532870']], Predicted: ['Чай']\n"
     ]
    },
    {
     "name": "stderr",
     "output_type": "stream",
     "text": [
      "c:\\users\\user\\appdata\\local\\programs\\python\\python38-32\\lib\\site-packages\\sklearn\\utils\\validation.py:72: FutureWarning: Beginning in version 0.22, arrays of bytes/strings will be converted to decimal numbers if dtype='numeric'. It is recommended that you convert the array to a float dtype before using it in scikit-learn, for example by using your_array = your_array.astype(np.float64).\n",
      "  return f(**kwargs)\n",
      "c:\\users\\user\\appdata\\local\\programs\\python\\python38-32\\lib\\site-packages\\sklearn\\utils\\validation.py:72: FutureWarning: Beginning in version 0.22, arrays of bytes/strings will be converted to decimal numbers if dtype='numeric'. It is recommended that you convert the array to a float dtype before using it in scikit-learn, for example by using your_array = your_array.astype(np.float64).\n",
      "  return f(**kwargs)\n"
     ]
    }
   ],
   "source": [
    "import csv\n",
    "Station_find = 'Аэропорт'\n",
    "with open (\"Stations_coordinats.csv\", encoding = \"utf-8\", newline = '') as csvfile:\n",
    "    reader = csv.DictReader(csvfile, delimiter=\",\")\n",
    "    for row in reader:\n",
    "        if row['Station']==Station_find:\n",
    "            X_find = [[row['X'],row['Y']]]\n",
    "knn = KNeighborsClassifier(n_neighbors=3)\n",
    "knn.fit(X_train, y_train)\n",
    "label= knn.predict(X_find)\n",
    "print('Data=%s, Predicted: %s' % (X_find, label))"
   ]
  }
 ],
 "metadata": {
  "kernelspec": {
   "display_name": "Python 3",
   "language": "python",
   "name": "python3"
  },
  "language_info": {
   "codemirror_mode": {
    "name": "ipython",
    "version": 3
   },
   "file_extension": ".py",
   "mimetype": "text/x-python",
   "name": "python",
   "nbconvert_exporter": "python",
   "pygments_lexer": "ipython3",
   "version": "3.8.5"
  }
 },
 "nbformat": 4,
 "nbformat_minor": 4
}
